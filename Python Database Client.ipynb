{
 "cells": [
  {
   "cell_type": "markdown",
   "metadata": {},
   "source": [
    "# Establish Connection to the Little Lemon Database"
   ]
  },
  {
   "cell_type": "code",
   "execution_count": 15,
   "metadata": {},
   "outputs": [
    {
     "name": "stdout",
     "output_type": "stream",
     "text": [
      "Collecting mysql-connector-python\n",
      "  Using cached mysql_connector_python-8.2.0-cp311-cp311-win_amd64.whl.metadata (2.1 kB)\n",
      "Collecting protobuf<=4.21.12,>=4.21.1 (from mysql-connector-python)\n",
      "  Using cached protobuf-4.21.12-cp310-abi3-win_amd64.whl (527 kB)\n",
      "Using cached mysql_connector_python-8.2.0-cp311-cp311-win_amd64.whl (14.2 MB)\n",
      "Installing collected packages: protobuf, mysql-connector-python\n",
      "Successfully installed mysql-connector-python-8.2.0 protobuf-4.21.12\n",
      "Note: you may need to restart the kernel to use updated packages.\n"
     ]
    }
   ],
   "source": [
    "%pip install mysql-connector-python"
   ]
  },
  {
   "cell_type": "code",
   "execution_count": 3,
   "metadata": {},
   "outputs": [
    {
     "name": "stdout",
     "output_type": "stream",
     "text": [
      "Importing MySQL Connector/Python API\n",
      "MySQL Connector/Python API is imported successfully.\n",
      "\n",
      "Establishing a new connection between MySQL and Python.\n",
      "A connection between MySQL and Python is successfully established\n"
     ]
    }
   ],
   "source": [
    "# Import MySQL Connector/Python \n",
    "print(\"Importing MySQL Connector/Python API\")\n",
    "import mysql.connector as connector\n",
    "print(\"MySQL Connector/Python API is imported successfully.\\n\")\n",
    "\n",
    "# Establis connection with authorized user/password\n",
    "print(\"Establishing a new connection between MySQL and Python.\")\n",
    "\n",
    "#connection=connector.connect(user=\"your_username\",password=\"your_password\")\n",
    "connection=connector.connect(host=\"localhost\",user=\"root\",password=\"Vcu23ds!\",port = 3006)\n",
    "print(\"A connection between MySQL and Python is successfully established\")"
   ]
  },
  {
   "cell_type": "code",
   "execution_count": 4,
   "metadata": {},
   "outputs": [
    {
     "name": "stdout",
     "output_type": "stream",
     "text": [
      "The database in use is:  littlelemon_db\n"
     ]
    }
   ],
   "source": [
    "# create a cursor object\n",
    "cursor=connection.cursor()\n",
    "\n",
    "# Set the “little lemon” database for use\n",
    "cursor.execute(\"use littlelemon_db\")\n",
    "print(\"The database in use is: \", connection.database)"
   ]
  },
  {
   "cell_type": "markdown",
   "metadata": {},
   "source": [
    "# Query the database to show all tables within the database"
   ]
  },
  {
   "cell_type": "code",
   "execution_count": 5,
   "metadata": {},
   "outputs": [
    {
     "name": "stdout",
     "output_type": "stream",
     "text": [
      "('bookings',)\n",
      "('customers',)\n",
      "('items',)\n",
      "('orderlines',)\n",
      "('orders',)\n",
      "('orders_more_than_150',)\n",
      "('ordersview',)\n",
      "('statuses',)\n",
      "('waiters',)\n"
     ]
    }
   ],
   "source": [
    "# create and execute a SQL query\n",
    "show_tables_query = \"SHOW tables\" \n",
    "cursor.execute(show_tables_query)\n",
    "\n",
    "# retrieve query results in a variable ‘results’\n",
    "results = cursor.fetchall()\n",
    "\n",
    "# use for loop to print the names of all the tables \n",
    "for table in results:\n",
    "    print(table)\n"
   ]
  },
  {
   "cell_type": "markdown",
   "metadata": {},
   "source": [
    "# Scenario\n",
    "Little Lemon have started building a functional booking system from which they can manage their customer data. An integral part of a well-functioning system is the ability to query data. Little Lemon need you to help them add the search functionality required to query their data.\n",
    "\n",
    "## Query with table JOIN\n",
    "\n",
    "Little Lemon need you to return specific details from your database. They require the full name and contact details for every customer that has placed an order greater than $60 for a promotional campaign. "
   ]
  },
  {
   "cell_type": "code",
   "execution_count": null,
   "metadata": {
    "vscode": {
     "languageId": "sql"
    }
   },
   "outputs": [],
   "source": [
    "SELECT \n",
    "    c.Name,\n",
    "    c.Email,\n",
    "    c.Phone\n",
    "FROM\n",
    "    customers c\n",
    "INNER JOIN\n",
    "    bookings b ON  c.CustomerID = b.CustomerID\n",
    "INNER JOIN\n",
    "    orders o ON b.BookingID = o.BookingID\n",
    "WHERE\n",
    "    o.Total > 60"
   ]
  },
  {
   "cell_type": "code",
   "execution_count": 51,
   "metadata": {},
   "outputs": [
    {
     "name": "stdout",
     "output_type": "stream",
     "text": [
      "Customers with orders greater than $60:\n",
      "\n",
      "Customer Name        | Email                          | Phone                     | Bill Amount\n",
      "-----------------------------------------------------------------------------------------------\n",
      "Anthony Rodriguez    | anthony_rodriguez@gmail.com    | +34-911-23-33-13          | $238.98\n",
      "Bill Smith           | bill.smith@gmail.com           | +1-202-546-9921           | $ 90.74\n",
      "Joe Brown            | joe.brown@gmail.com            | +1-202-546-2813           | $ 70.75\n",
      "Joe Brown            | joe.brown@gmail.com            | +1-202-546-2813           | $209.49\n",
      "John McDouglas       | john.mcdouglas@gmail.com       | +44-20-7499-6996          | $ 70.24\n",
      "John McDouglas       | john.mcdouglas@gmail.com       | +44-20-7499-6996          | $197.49\n",
      "John McDouglas       | john.mcdouglas@gmail.com       | +44-20-7499-6996          | $241.50\n",
      "Lucas Anderson       | lucas.anderson@gmail.com       | +1-202-432-9134           | $104.00\n",
      "Micheal Adams        | micheal.adams@gmail.com        | +1-202-783-0923           | $112.74\n",
      "Nathan Jones         | nathan.jones@gmail.com         | +1-804-872-9265           | $365.96\n",
      "Nathan Jones         | nathan.jones@gmail.com         | +1-804-872-9265           | $108.75\n",
      "Thomas Williams      | thomas.williams@gmail.com      | +1-212-708-9400           | $195.00\n",
      "Thomas Williams      | thomas.williams@gmail.com      | +1-212-708-9400           | $163.00\n",
      "Tim Wilson           | tim_wilson@gmail.com           | +33-1-42-60-08-83         | $253.00\n",
      "Tim Wilson           | tim_wilson@gmail.com           | +33-1-42-60-08-83         | $ 72.75\n"
     ]
    }
   ],
   "source": [
    "select_query = \"\"\"\n",
    "SELECT DISTINCT \n",
    "    c.Name AS \"Customer Name\",\n",
    "    c.Email,\n",
    "    c.Phone,\n",
    "    o.Total AS \"Bill Amount\"\n",
    "FROM\n",
    "    customers c\n",
    "INNER JOIN\n",
    "    bookings b ON  c.CustomerID = b.CustomerID\n",
    "INNER JOIN\n",
    "    orders o ON b.BookingID = o.BookingID\n",
    "WHERE\n",
    "    o.Total > 60\n",
    "ORDER By\n",
    "    c.Name\n",
    "\"\"\"\n",
    "\n",
    "cursor.execute(select_query)\n",
    "\n",
    "results=cursor.fetchall()\n",
    "\n",
    "# Retrieve column names\n",
    "columns = cursor.column_names\n",
    "\n",
    "# Print column names and records from results using for loop\n",
    "print(\"Customers with orders greater than $60:\\n\")\n",
    "# Print column names\n",
    "print(\"Customer Name        | Email                          | Phone                     | Bill Amount\")\n",
    "print(\"-----------------------------------------------------------------------------------------------\")\n",
    "for result in results:\n",
    "    Name, Email, Phone, Total = result\n",
    "    print(f\"{Name:20} | {Email:30} | {Phone:25} | ${Total:6}\")"
   ]
  },
  {
   "cell_type": "code",
   "execution_count": null,
   "metadata": {},
   "outputs": [],
   "source": []
  }
 ],
 "metadata": {
  "kernelspec": {
   "display_name": "db-capstone-project.venv",
   "language": "python",
   "name": "python3"
  },
  "language_info": {
   "codemirror_mode": {
    "name": "ipython",
    "version": 3
   },
   "file_extension": ".py",
   "mimetype": "text/x-python",
   "name": "python",
   "nbconvert_exporter": "python",
   "pygments_lexer": "ipython3",
   "version": "3.11.5"
  }
 },
 "nbformat": 4,
 "nbformat_minor": 2
}
