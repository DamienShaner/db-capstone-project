{
 "cells": [
  {
   "cell_type": "code",
   "execution_count": 15,
   "metadata": {},
   "outputs": [
    {
     "name": "stdout",
     "output_type": "stream",
     "text": [
      "Collecting mysql-connector-python\n",
      "  Using cached mysql_connector_python-8.2.0-cp311-cp311-win_amd64.whl.metadata (2.1 kB)\n",
      "Collecting protobuf<=4.21.12,>=4.21.1 (from mysql-connector-python)\n",
      "  Using cached protobuf-4.21.12-cp310-abi3-win_amd64.whl (527 kB)\n",
      "Using cached mysql_connector_python-8.2.0-cp311-cp311-win_amd64.whl (14.2 MB)\n",
      "Installing collected packages: protobuf, mysql-connector-python\n",
      "Successfully installed mysql-connector-python-8.2.0 protobuf-4.21.12\n",
      "Note: you may need to restart the kernel to use updated packages.\n"
     ]
    }
   ],
   "source": [
    "%pip install mysql-connector-python"
   ]
  },
  {
   "cell_type": "code",
   "execution_count": 15,
   "metadata": {},
   "outputs": [
    {
     "name": "stdout",
     "output_type": "stream",
     "text": [
      "Importing MySQL Connector/Python API\n",
      "MySQL Connector/Python API is imported successfully.\n",
      "\n",
      "Establishing a new connection between MySQL and Python.\n",
      "A connection between MySQL and Python is successfully established\n"
     ]
    }
   ],
   "source": [
    "# Import MySQL Connector/Python \n",
    "print(\"Importing MySQL Connector/Python API\")\n",
    "import mysql.connector as connector\n",
    "print(\"MySQL Connector/Python API is imported successfully.\\n\")\n",
    "\n",
    "# Establis connection with authorized user/password\n",
    "print(\"Establishing a new connection between MySQL and Python.\")\n",
    "\n",
    "#connection=connector.connect(user=\"your_username\",password=\"your_password\")\n",
    "connection=connector.connect(host=\"localhost\",user=\"root\",password=\"Vcu23ds!\",port = 3006)\n",
    "print(\"A connection between MySQL and Python is successfully established\")"
   ]
  },
  {
   "cell_type": "code",
   "execution_count": 16,
   "metadata": {},
   "outputs": [
    {
     "name": "stdout",
     "output_type": "stream",
     "text": [
      "The database in use is:  littlelemon_db\n"
     ]
    }
   ],
   "source": [
    "# create a cursor object\n",
    "cursor=connection.cursor()\n",
    "\n",
    "# Set the “little_lemon” database for use\n",
    "cursor.execute(\"use littlelemon_db\")\n",
    "print(\"The database in use is: \", connection.database)"
   ]
  },
  {
   "cell_type": "code",
   "execution_count": 21,
   "metadata": {},
   "outputs": [
    {
     "name": "stdout",
     "output_type": "stream",
     "text": [
      "[('bookings',), ('customers',), ('items',), ('orderlines',), ('orders',), ('orders_more_than_150',), ('ordersview',), ('statuses',), ('waiters',)]\n"
     ]
    }
   ],
   "source": [
    "# create and execute a SQL query\n",
    "show_tables_query = \"SHOW tables\" \n",
    "cursor.execute(show_tables_query)\n",
    "\n",
    "# retrieve query results in a variable ‘results’\n",
    "results = cursor.fetchall()\n",
    "\n",
    "# display query results\n",
    "print(results)\n"
   ]
  },
  {
   "cell_type": "code",
   "execution_count": 20,
   "metadata": {},
   "outputs": [],
   "source": [
    "cursor.reset()"
   ]
  },
  {
   "cell_type": "code",
   "execution_count": null,
   "metadata": {
    "vscode": {
     "languageId": "sql"
    }
   },
   "outputs": [],
   "source": []
  }
 ],
 "metadata": {
  "kernelspec": {
   "display_name": "db-capstone-project.venv",
   "language": "python",
   "name": "python3"
  },
  "language_info": {
   "codemirror_mode": {
    "name": "ipython",
    "version": 3
   },
   "file_extension": ".py",
   "mimetype": "text/x-python",
   "name": "python",
   "nbconvert_exporter": "python",
   "pygments_lexer": "ipython3",
   "version": "3.11.5"
  }
 },
 "nbformat": 4,
 "nbformat_minor": 2
}
